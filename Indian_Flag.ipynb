{
 "cells": [
  {
   "cell_type": "markdown",
   "id": "f322e14b",
   "metadata": {},
   "source": [
    "# Indian National Flag"
   ]
  },
  {
   "cell_type": "code",
   "execution_count": null,
   "id": "2a3a18e5",
   "metadata": {},
   "outputs": [],
   "source": [
    "import numpy as np\n",
    "from matplotlib import pyplot as plt, patches#tri-color\n",
    "saffron=patches.Rectangle((0,4), width=9, height=2,facecolor='#FF9933',edgecolor='grey')\n",
    "white=patches.Rectangle((0,2), width=9, height=2,facecolor='#FFFFFF',edgecolor='grey')\n",
    "green=patches.Rectangle((0,0), width=9, height=2,facecolor='#138808',edgecolor='grey')\n",
    "m,n=plt.subplots()\n",
    "n.add_patch(green)\n",
    "n.add_patch(white)\n",
    "n.add_patch(saffron)\n",
    "#Ashok Chakra\n",
    "#Chakra\n",
    "radius=0.8\n",
    "plt.plot(4.5,3,marker='o',markerfacecolor='#000080',markersize=2)\n",
    "chakra = plt.Circle((4.5,3),radius,color='#000080',fill=False,linewidth=2)\n",
    "n.add_artist(chakra)\n",
    "#24 spokes\n",
    "for i in range(0,24):\n",
    "    p=4.5+radius*np.cos(np.pi*i/12+np.pi/48)\n",
    "    q=4.5+radius*np.cos(np.pi*i/12-np.pi/48)\n",
    "    r=3+radius*np.sin(np.pi*i/12+np.pi/48)\n",
    "    s=3+radius*np.sin(np.pi*i/12-np.pi/48)\n",
    "    t=4.5+radius*np.cos(np.pi*i/12)\n",
    "    u=3+radius*np.sin(np.pi*i/12)\n",
    "    n.add_patch(patches.Polygon([[4.5,3],[p,r],[t,u],[q,s]],fill=True, closed=True,color='#000080'))\n",
    "plt.axis('equal')\n",
    "plt.show()"
   ]
  },
  {
   "cell_type": "code",
   "execution_count": null,
   "id": "4f980d13",
   "metadata": {},
   "outputs": [],
   "source": []
  }
 ],
 "metadata": {
  "kernelspec": {
   "display_name": "Python 3 (ipykernel)",
   "language": "python",
   "name": "python3"
  },
  "language_info": {
   "codemirror_mode": {
    "name": "ipython",
    "version": 3
   },
   "file_extension": ".py",
   "mimetype": "text/x-python",
   "name": "python",
   "nbconvert_exporter": "python",
   "pygments_lexer": "ipython3",
   "version": "3.8.13"
  }
 },
 "nbformat": 4,
 "nbformat_minor": 5
}
